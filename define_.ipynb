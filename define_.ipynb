{
 "cells": [
  {
   "cell_type": "code",
   "execution_count": 1,
   "id": "0f7eebb7-087e-41d0-ae7d-9e39a01b0f17",
   "metadata": {},
   "outputs": [],
   "source": [
    "import logging\n",
    "import gensim\n",
    "from gensim.models import word2vec, KeyedVectors\n",
    "import pandas as pd\n",
    "import nltk\n",
    "import matplotlib.pyplot as plt\n",
    "import seaborn as sns\n",
    "from sklearn.decomposition import PCA\n",
    "import numpy as np\n",
    "from nltk.tokenize import MWETokenizer\n",
    "import itertools\n",
    "from gensim.models import KeyedVectors\n",
    "from gensim.models import Word2Vec\n",
    "from gensim.models.word2vec import LineSentence\n",
    "from sklearn.manifold import TSNE"
   ]
  },
  {
   "cell_type": "code",
   "execution_count": 2,
   "id": "905aaa57-e0be-47bc-b7e1-42bc65c90d66",
   "metadata": {},
   "outputs": [],
   "source": [
    "model = KeyedVectors.load_word2vec_format('清洗后文本.txt')"
   ]
  },
  {
   "cell_type": "code",
   "execution_count": null,
   "id": "e1014d2a-e10b-493a-9e59-ef85e5ffdd10",
   "metadata": {},
   "outputs": [],
   "source": [
    "def plot_word_vectors_highlighted(model, highlight_words_blue, highlight_words_red, highlight_words_yellow, highlight_words_green, highlight_words_orange):\n",
    "    word_vectors = model.vectors\n",
    "    tsne = TSNE(n_components=2, random_state=42)\n",
    "    word_vectors_tsne = tsne.fit_transform(word_vectors)\n",
    "    \n",
    "    word_vectors_dict = {}\n",
    "    for i, word in enumerate(model.index_to_key):\n",
    "        word_vectors_dict[word] = model.get_vector(word)\n",
    "\n",
    "    plt.figure(figsize=(12, 8))\n",
    "    dpi = 2000\n",
    "    plt.scatter(word_vectors_tsne[:, 0], word_vectors_tsne[:, 1], color='lightgray')\n",
    "\n",
    "    for word in highlight_words_blue:\n",
    "        if word in word_vectors_dict:\n",
    "            index = list(word_vectors_dict.keys()).index(word)\n",
    "            plt.scatter(word_vectors_tsne[index, 0], word_vectors_tsne[index, 1], color='blue')\n",
    "            plt.annotate(word, (word_vectors_tsne[index, 0], word_vectors_tsne[index, 1]), fontsize=12)\n",
    "\n",
    "    for word in highlight_words_red:\n",
    "        if word in word_vectors_dict:\n",
    "            index = list(word_vectors_dict.keys()).index(word)\n",
    "            plt.scatter(word_vectors_tsne[index, 0], word_vectors_tsne[index, 1], color='red')\n",
    "            plt.annotate(word, (word_vectors_tsne[index, 0], word_vectors_tsne[index, 1]), fontsize=12)\n",
    "            \n",
    "    for word in highlight_words_yellow:\n",
    "        if word in word_vectors_dict:\n",
    "            index = list(word_vectors_dict.keys()).index(word)\n",
    "            plt.scatter(word_vectors_tsne[index, 0], word_vectors_tsne[index, 1], color='yellow')\n",
    "            plt.annotate(word, (word_vectors_tsne[index, 0], word_vectors_tsne[index, 1]), fontsize=12)\n",
    "\n",
    "    for word in highlight_words_green:\n",
    "        if word in word_vectors_dict:\n",
    "            index = list(word_vectors_dict.keys()).index(word)\n",
    "            plt.scatter(word_vectors_tsne[index, 0], word_vectors_tsne[index, 1], color='green')\n",
    "            plt.annotate(word, (word_vectors_tsne[index, 0], word_vectors_tsne[index, 1]), fontsize=12)\n",
    "            \n",
    "    for word in highlight_words_orange:\n",
    "        if word in word_vectors_dict:\n",
    "            index = list(word_vectors_dict.keys()).index(word)\n",
    "            plt.scatter(word_vectors_tsne[index, 0], word_vectors_tsne[index, 1], color='orange')\n",
    "            plt.annotate(word, (word_vectors_tsne[index, 0], word_vectors_tsne[index, 1]), fontsize=12)\n",
    "\n",
    "    plt.rcParams['font.family'] = 'Times New Roman' \n",
    "    plt.savefig('聚类无字.png')\n",
    "    plt.show()\n",
    "\n",
    "# 使用示例\n",
    "highlight_words_blue = ['Y_2O_3', 'ZnSe', 'MgF_2', 'CaF_2', 'Gd_2O_3', 'YF_3', 'Lu_2O_3', 'LaF_3', 'AlON']\n",
    "highlight_words_red = ['Fe_2O_3', 'CuO', 'MnO_2', 'Al_2O_3', 'Co_2O_3', 'MnO_2']\n",
    "highlight_words_yellow = []\n",
    "highlight_words_green = []\n",
    "highlight_words_orange = []\n",
    "plot_word_vectors_highlighted(model, highlight_words_blue, highlight_words_red, highlight_words_yellow, highlight_words_green, highlight_words_orange)\n"
   ]
  }
 ],
 "metadata": {
  "kernelspec": {
   "display_name": "nlpenv",
   "language": "python",
   "name": "test"
  },
  "language_info": {
   "codemirror_mode": {
    "name": "ipython",
    "version": 3
   },
   "file_extension": ".py",
   "mimetype": "text/x-python",
   "name": "python",
   "nbconvert_exporter": "python",
   "pygments_lexer": "ipython3",
   "version": "3.6.13"
  }
 },
 "nbformat": 4,
 "nbformat_minor": 5
}
